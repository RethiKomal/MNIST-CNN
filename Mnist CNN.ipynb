{
 "cells": [
  {
   "cell_type": "code",
   "execution_count": 2,
   "id": "3ce87f52",
   "metadata": {},
   "outputs": [],
   "source": [
    "from tensorflow.keras.datasets import mnist #mnist is the dataset of images\n",
    "from tensorflow.keras.models import Sequential #model type as it allows the framework to be built layer by layer\n",
    "from tensorflow.keras.layers import Conv2D #as we are going thru 2D images, we need Convo2d as it will help in processing of 2d images using convolution layer\n",
    "from tensorflow.keras.layers import MaxPool2D\n",
    "from tensorflow.keras.layers import Flatten\n",
    "from tensorflow.keras.layers import Dropout\n",
    "from tensorflow.keras.layers import Dense"
   ]
  },
  {
   "cell_type": "code",
   "execution_count": 3,
   "id": "47591ffc",
   "metadata": {},
   "outputs": [],
   "source": [
    "#Loading the data\n",
    "(X_train,Y_train),(X_test,Y_test)=mnist.load_data()"
   ]
  },
  {
   "cell_type": "code",
   "execution_count": 4,
   "id": "a6519ceb",
   "metadata": {},
   "outputs": [],
   "source": [
    "#Reshaping the data\n",
    "X_train=X_train.reshape((X_train.shape[0]),X_train.shape[1],X_train.shape[2],1)\n",
    "X_test=X_test.reshape((X_test.shape[0]),X_test.shape[1],X_test.shape[2],1)"
   ]
  },
  {
   "cell_type": "code",
   "execution_count": 7,
   "id": "8bc80720",
   "metadata": {},
   "outputs": [
    {
     "name": "stdout",
     "output_type": "stream",
     "text": [
      "(60000, 28, 28, 1)\n",
      "(10000, 28, 28, 1)\n"
     ]
    }
   ],
   "source": [
    "#Checking the shape after reshaping\n",
    "print(X_train.shape)\n",
    "print(X_test.shape)\n",
    "#60k is the number of images, 28 and 28 are the dimensions in pixels, 1 means grayscale(colour)"
   ]
  },
  {
   "cell_type": "code",
   "execution_count": 8,
   "id": "66bd078c",
   "metadata": {},
   "outputs": [],
   "source": [
    "#Normalizing the pixel values\n",
    "X_train=X_train/255\n",
    "X_test=X_test/255"
   ]
  },
  {
   "cell_type": "code",
   "execution_count": 9,
   "id": "18fdea17",
   "metadata": {},
   "outputs": [],
   "source": [
    "#resize images into a specific size\n",
    "model=Sequential()\n",
    "model.add(Conv2D(32,(3,3),activation='relu',input_shape=(28,28,1))) #Conv2D is the convolutional layer having 32 filter layers having the size of 3X3, input_shape will be the size of image, 28X28 in grayscale AKA 1\n",
    "model.add(MaxPool2D(2,2)) #size of maxpool is 2X2 i.e it will take maximum value from 2x2 matrix\n",
    "\n"
   ]
  },
  {
   "cell_type": "code",
   "execution_count": 10,
   "id": "8e651a7e",
   "metadata": {},
   "outputs": [],
   "source": [
    "#adding fully connected layers\n",
    "model.add(Flatten())\n",
    "model.add(Dense(100,activation='relu')) #Flatten layer serves as the connection b/w the convolution and the dense layers. Dense is the layer type, which shall be used for output layer. Flatten converst 2d to 1d array. We are having 100 neurons in the output layer, using the relu function"
   ]
  },
  {
   "cell_type": "code",
   "execution_count": 11,
   "id": "b4c994e6",
   "metadata": {},
   "outputs": [],
   "source": [
    "#adding output layer\n",
    "model.add(Dense(10,activation='softmax')) #As we know there only 10 digits i.e 0-9, we are using 10 neurons in the output layer and the activation is softmax as it makes the output sum upto 1"
   ]
  },
  {
   "cell_type": "code",
   "execution_count": 12,
   "id": "47e9a090",
   "metadata": {},
   "outputs": [],
   "source": [
    "#compiling the model\n",
    "model.compile(loss='sparse_categorical_crossentropy',optimizer='adam',metrics=['accuracy'])"
   ]
  },
  {
   "cell_type": "code",
   "execution_count": 13,
   "id": "209f5bdd",
   "metadata": {},
   "outputs": [
    {
     "name": "stdout",
     "output_type": "stream",
     "text": [
      "Epoch 1/10\n",
      "1875/1875 [==============================] - 22s 11ms/step - loss: 0.8419 - accuracy: 0.7531\n",
      "Epoch 2/10\n",
      "1875/1875 [==============================] - 21s 11ms/step - loss: 0.3475 - accuracy: 0.8970\n",
      "Epoch 3/10\n",
      "1875/1875 [==============================] - 21s 11ms/step - loss: 0.3009 - accuracy: 0.9099\n",
      "Epoch 4/10\n",
      "1875/1875 [==============================] - 21s 11ms/step - loss: 0.2688 - accuracy: 0.9201\n",
      "Epoch 5/10\n",
      "1875/1875 [==============================] - 21s 11ms/step - loss: 0.2402 - accuracy: 0.9284\n",
      "Epoch 6/10\n",
      "1875/1875 [==============================] - 21s 11ms/step - loss: 0.2154 - accuracy: 0.9363\n",
      "Epoch 7/10\n",
      "1875/1875 [==============================] - 21s 11ms/step - loss: 0.1971 - accuracy: 0.9415\n",
      "Epoch 8/10\n",
      "1875/1875 [==============================] - 21s 11ms/step - loss: 0.1807 - accuracy: 0.9456\n",
      "Epoch 9/10\n",
      "1875/1875 [==============================] - 21s 11ms/step - loss: 0.1665 - accuracy: 0.9501\n",
      "Epoch 10/10\n",
      "1875/1875 [==============================] - 21s 11ms/step - loss: 0.1545 - accuracy: 0.9534\n"
     ]
    },
    {
     "data": {
      "text/plain": [
       "<keras.callbacks.History at 0x1ef353f70d0>"
      ]
     },
     "execution_count": 13,
     "metadata": {},
     "output_type": "execute_result"
    }
   ],
   "source": [
    "#fitting the model\n",
    "model.fit(X_train,Y_train,epochs=10)"
   ]
  },
  {
   "cell_type": "code",
   "execution_count": 14,
   "id": "5bc44dcc",
   "metadata": {},
   "outputs": [
    {
     "name": "stdout",
     "output_type": "stream",
     "text": [
      "313/313 [==============================] - 8s 4ms/step - loss: 0.1484 - accuracy: 0.9532\n"
     ]
    },
    {
     "data": {
      "text/plain": [
       "[0.14841119945049286, 0.9531999826431274]"
      ]
     },
     "execution_count": 14,
     "metadata": {},
     "output_type": "execute_result"
    }
   ],
   "source": [
    "#evaluating the model\n",
    "model.evaluate(X_test,Y_test)"
   ]
  },
  {
   "cell_type": "code",
   "execution_count": null,
   "id": "98f4da6c",
   "metadata": {},
   "outputs": [],
   "source": []
  }
 ],
 "metadata": {
  "kernelspec": {
   "display_name": "Python 3 (ipykernel)",
   "language": "python",
   "name": "python3"
  },
  "language_info": {
   "codemirror_mode": {
    "name": "ipython",
    "version": 3
   },
   "file_extension": ".py",
   "mimetype": "text/x-python",
   "name": "python",
   "nbconvert_exporter": "python",
   "pygments_lexer": "ipython3",
   "version": "3.9.13"
  }
 },
 "nbformat": 4,
 "nbformat_minor": 5
}
